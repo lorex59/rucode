{
 "cells": [
  {
   "cell_type": "code",
   "execution_count": 640,
   "metadata": {},
   "outputs": [],
   "source": [
    "import pandas as pd\n",
    "import numpy as np\n",
    "import seaborn as sns\n",
    "import matplotlib.pyplot as plt\n",
    "pd.set_option('display.max_colwidth', 100)  "
   ]
  },
  {
   "cell_type": "code",
   "execution_count": 641,
   "metadata": {},
   "outputs": [],
   "source": [
    "def prep_df(df):\n",
    "    df[['service_date', \"service_checkin\", 'service_checkout']] = df[['service_date', \"service_checkin\", 'service_checkout']].astype('datetime64[ns]')\n",
    "    df['service_people_cnt'] = df['service_people_cnt'] - df['service_child_cnt']\n",
    "    return df\n",
    "\n",
    "def drop_columns(df, columns_to_drop):\n",
    "    for column in columns_to_drop:\n",
    "        df = df.drop(column, axis=1)\n",
    "    return df\n"
   ]
  },
  {
   "cell_type": "code",
   "execution_count": 642,
   "metadata": {},
   "outputs": [],
   "source": [
    "train_df = pd.read_csv('data/train.csv', index_col='service_id')\n",
    "test_df = pd.read_csv('data/public_test.csv', index_col='service_id')\n",
    "\n",
    "train_df = train_df.drop_duplicates()\n",
    "train_df = train_df.dropna()\n",
    "train_df = prep_df(train_df)\n",
    "test_df = prep_df(test_df)\n",
    "\n"
   ]
  },
  {
   "cell_type": "code",
   "execution_count": 643,
   "metadata": {},
   "outputs": [],
   "source": [
    "numerical_cols = test_df.select_dtypes(include=['int', 'float']).columns\n",
    "categorical_cols = test_df.select_dtypes(include='O').columns\n",
    "target = 'service_status'"
   ]
  },
  {
   "cell_type": "code",
   "execution_count": 644,
   "metadata": {},
   "outputs": [],
   "source": [
    "date_columns = ['service_date', \"service_checkin\", 'service_checkout']"
   ]
  },
  {
   "cell_type": "markdown",
   "metadata": {},
   "source": [
    "## EDA"
   ]
  },
  {
   "cell_type": "code",
   "execution_count": 645,
   "metadata": {},
   "outputs": [
    {
     "name": "stdout",
     "output_type": "stream",
     "text": [
      "<class 'pandas.core.frame.DataFrame'>\n",
      "Index: 2461285 entries, 12528139 to 31793047\n",
      "Data columns (total 16 columns):\n",
      " #   Column              Dtype         \n",
      "---  ------              -----         \n",
      " 0   service_date        datetime64[ns]\n",
      " 1   service_checkin     datetime64[ns]\n",
      " 2   service_checkout    datetime64[ns]\n",
      " 3   service_price       float64       \n",
      " 4   service_child_cnt   float64       \n",
      " 5   service_people_cnt  float64       \n",
      " 6   client_id           int64         \n",
      " 7   client_segment      object        \n",
      " 8   hotel_id            int64         \n",
      " 9   country_name        object        \n",
      " 10  city_name           object        \n",
      " 11  category_star       float64       \n",
      " 12  hotel_type          object        \n",
      " 13  hotel_seasonal      int64         \n",
      " 14  room_category       int64         \n",
      " 15  service_status      int64         \n",
      "dtypes: datetime64[ns](3), float64(4), int64(5), object(4)\n",
      "memory usage: 319.2+ MB\n"
     ]
    }
   ],
   "source": [
    "train_df.info()"
   ]
  },
  {
   "cell_type": "code",
   "execution_count": 646,
   "metadata": {},
   "outputs": [
    {
     "data": {
      "text/html": [
       "<div>\n",
       "<style scoped>\n",
       "    .dataframe tbody tr th:only-of-type {\n",
       "        vertical-align: middle;\n",
       "    }\n",
       "\n",
       "    .dataframe tbody tr th {\n",
       "        vertical-align: top;\n",
       "    }\n",
       "\n",
       "    .dataframe thead th {\n",
       "        text-align: right;\n",
       "    }\n",
       "</style>\n",
       "<table border=\"1\" class=\"dataframe\">\n",
       "  <thead>\n",
       "    <tr style=\"text-align: right;\">\n",
       "      <th></th>\n",
       "      <th>service_date</th>\n",
       "      <th>service_checkin</th>\n",
       "      <th>service_checkout</th>\n",
       "      <th>service_price</th>\n",
       "      <th>service_child_cnt</th>\n",
       "      <th>service_people_cnt</th>\n",
       "      <th>client_id</th>\n",
       "      <th>client_segment</th>\n",
       "      <th>hotel_id</th>\n",
       "      <th>country_name</th>\n",
       "      <th>city_name</th>\n",
       "      <th>category_star</th>\n",
       "      <th>hotel_type</th>\n",
       "      <th>hotel_seasonal</th>\n",
       "      <th>room_category</th>\n",
       "      <th>service_status</th>\n",
       "    </tr>\n",
       "    <tr>\n",
       "      <th>service_id</th>\n",
       "      <th></th>\n",
       "      <th></th>\n",
       "      <th></th>\n",
       "      <th></th>\n",
       "      <th></th>\n",
       "      <th></th>\n",
       "      <th></th>\n",
       "      <th></th>\n",
       "      <th></th>\n",
       "      <th></th>\n",
       "      <th></th>\n",
       "      <th></th>\n",
       "      <th></th>\n",
       "      <th></th>\n",
       "      <th></th>\n",
       "      <th></th>\n",
       "    </tr>\n",
       "  </thead>\n",
       "  <tbody>\n",
       "    <tr>\n",
       "      <th>12528139</th>\n",
       "      <td>2016-12-28</td>\n",
       "      <td>2017-01-16</td>\n",
       "      <td>2017-01-17</td>\n",
       "      <td>2395.80</td>\n",
       "      <td>0.0</td>\n",
       "      <td>1.0</td>\n",
       "      <td>210509</td>\n",
       "      <td>b2b2c</td>\n",
       "      <td>7695</td>\n",
       "      <td>Россия</td>\n",
       "      <td>Реутов</td>\n",
       "      <td>0.0</td>\n",
       "      <td>hotel</td>\n",
       "      <td>0</td>\n",
       "      <td>20</td>\n",
       "      <td>1</td>\n",
       "    </tr>\n",
       "    <tr>\n",
       "      <th>12528148</th>\n",
       "      <td>2016-12-28</td>\n",
       "      <td>2017-01-19</td>\n",
       "      <td>2017-01-23</td>\n",
       "      <td>10062.36</td>\n",
       "      <td>0.0</td>\n",
       "      <td>2.0</td>\n",
       "      <td>210509</td>\n",
       "      <td>b2b2c</td>\n",
       "      <td>36934</td>\n",
       "      <td>Россия</td>\n",
       "      <td>Санкт-Петербург</td>\n",
       "      <td>3.0</td>\n",
       "      <td>mini-hotel</td>\n",
       "      <td>0</td>\n",
       "      <td>50</td>\n",
       "      <td>0</td>\n",
       "    </tr>\n",
       "    <tr>\n",
       "      <th>12528157</th>\n",
       "      <td>2016-12-28</td>\n",
       "      <td>2016-12-31</td>\n",
       "      <td>2017-01-01</td>\n",
       "      <td>2332.00</td>\n",
       "      <td>0.0</td>\n",
       "      <td>2.0</td>\n",
       "      <td>213592</td>\n",
       "      <td>b2b2c</td>\n",
       "      <td>7107</td>\n",
       "      <td>Россия</td>\n",
       "      <td>Биробиджан</td>\n",
       "      <td>3.0</td>\n",
       "      <td>hotel</td>\n",
       "      <td>0</td>\n",
       "      <td>30</td>\n",
       "      <td>0</td>\n",
       "    </tr>\n",
       "    <tr>\n",
       "      <th>12528166</th>\n",
       "      <td>2016-12-28</td>\n",
       "      <td>2016-12-29</td>\n",
       "      <td>2016-12-30</td>\n",
       "      <td>2259.92</td>\n",
       "      <td>0.0</td>\n",
       "      <td>1.0</td>\n",
       "      <td>224181</td>\n",
       "      <td>b2bBusinessTravel</td>\n",
       "      <td>3966</td>\n",
       "      <td>Россия</td>\n",
       "      <td>Владивосток</td>\n",
       "      <td>0.0</td>\n",
       "      <td>hotel</td>\n",
       "      <td>0</td>\n",
       "      <td>30</td>\n",
       "      <td>0</td>\n",
       "    </tr>\n",
       "    <tr>\n",
       "      <th>12528175</th>\n",
       "      <td>2016-12-28</td>\n",
       "      <td>2016-12-30</td>\n",
       "      <td>2016-12-31</td>\n",
       "      <td>1400.00</td>\n",
       "      <td>0.0</td>\n",
       "      <td>1.0</td>\n",
       "      <td>224181</td>\n",
       "      <td>b2bBusinessTravel</td>\n",
       "      <td>427</td>\n",
       "      <td>Россия</td>\n",
       "      <td>Москва</td>\n",
       "      <td>3.0</td>\n",
       "      <td>hotel</td>\n",
       "      <td>0</td>\n",
       "      <td>30</td>\n",
       "      <td>0</td>\n",
       "    </tr>\n",
       "  </tbody>\n",
       "</table>\n",
       "</div>"
      ],
      "text/plain": [
       "           service_date service_checkin service_checkout  service_price  \\\n",
       "service_id                                                                \n",
       "12528139     2016-12-28      2017-01-16       2017-01-17        2395.80   \n",
       "12528148     2016-12-28      2017-01-19       2017-01-23       10062.36   \n",
       "12528157     2016-12-28      2016-12-31       2017-01-01        2332.00   \n",
       "12528166     2016-12-28      2016-12-29       2016-12-30        2259.92   \n",
       "12528175     2016-12-28      2016-12-30       2016-12-31        1400.00   \n",
       "\n",
       "            service_child_cnt  service_people_cnt  client_id  \\\n",
       "service_id                                                     \n",
       "12528139                  0.0                 1.0     210509   \n",
       "12528148                  0.0                 2.0     210509   \n",
       "12528157                  0.0                 2.0     213592   \n",
       "12528166                  0.0                 1.0     224181   \n",
       "12528175                  0.0                 1.0     224181   \n",
       "\n",
       "               client_segment  hotel_id country_name        city_name  \\\n",
       "service_id                                                              \n",
       "12528139                b2b2c      7695       Россия           Реутов   \n",
       "12528148                b2b2c     36934       Россия  Санкт-Петербург   \n",
       "12528157                b2b2c      7107       Россия       Биробиджан   \n",
       "12528166    b2bBusinessTravel      3966       Россия      Владивосток   \n",
       "12528175    b2bBusinessTravel       427       Россия           Москва   \n",
       "\n",
       "            category_star  hotel_type  hotel_seasonal  room_category  \\\n",
       "service_id                                                             \n",
       "12528139              0.0       hotel               0             20   \n",
       "12528148              3.0  mini-hotel               0             50   \n",
       "12528157              3.0       hotel               0             30   \n",
       "12528166              0.0       hotel               0             30   \n",
       "12528175              3.0       hotel               0             30   \n",
       "\n",
       "            service_status  \n",
       "service_id                  \n",
       "12528139                 1  \n",
       "12528148                 0  \n",
       "12528157                 0  \n",
       "12528166                 0  \n",
       "12528175                 0  "
      ]
     },
     "execution_count": 646,
     "metadata": {},
     "output_type": "execute_result"
    }
   ],
   "source": [
    "train_df.head()"
   ]
  },
  {
   "cell_type": "code",
   "execution_count": 647,
   "metadata": {},
   "outputs": [
    {
     "data": {
      "text/plain": [
       "service_status\n",
       "0    0.857537\n",
       "1    0.142463\n",
       "Name: proportion, dtype: float64"
      ]
     },
     "execution_count": 647,
     "metadata": {},
     "output_type": "execute_result"
    }
   ],
   "source": [
    "train_df[target].value_counts(normalize=True)"
   ]
  },
  {
   "cell_type": "markdown",
   "metadata": {},
   "source": [
    "### Numerical"
   ]
  },
  {
   "cell_type": "code",
   "execution_count": 648,
   "metadata": {},
   "outputs": [
    {
     "data": {
      "text/html": [
       "<div>\n",
       "<style scoped>\n",
       "    .dataframe tbody tr th:only-of-type {\n",
       "        vertical-align: middle;\n",
       "    }\n",
       "\n",
       "    .dataframe tbody tr th {\n",
       "        vertical-align: top;\n",
       "    }\n",
       "\n",
       "    .dataframe thead th {\n",
       "        text-align: right;\n",
       "    }\n",
       "</style>\n",
       "<table border=\"1\" class=\"dataframe\">\n",
       "  <thead>\n",
       "    <tr style=\"text-align: right;\">\n",
       "      <th></th>\n",
       "      <th>count</th>\n",
       "      <th>mean</th>\n",
       "      <th>std</th>\n",
       "      <th>min</th>\n",
       "      <th>25%</th>\n",
       "      <th>50%</th>\n",
       "      <th>75%</th>\n",
       "      <th>max</th>\n",
       "    </tr>\n",
       "  </thead>\n",
       "  <tbody>\n",
       "    <tr>\n",
       "      <th>service_price</th>\n",
       "      <td>2461285.0</td>\n",
       "      <td>9499.889</td>\n",
       "      <td>13514.086</td>\n",
       "      <td>-90.0</td>\n",
       "      <td>3200.0</td>\n",
       "      <td>5656.0</td>\n",
       "      <td>11035.94</td>\n",
       "      <td>1976845.5</td>\n",
       "    </tr>\n",
       "    <tr>\n",
       "      <th>service_child_cnt</th>\n",
       "      <td>2461285.0</td>\n",
       "      <td>0.090</td>\n",
       "      <td>0.468</td>\n",
       "      <td>0.0</td>\n",
       "      <td>0.0</td>\n",
       "      <td>0.0</td>\n",
       "      <td>0.00</td>\n",
       "      <td>8.0</td>\n",
       "    </tr>\n",
       "    <tr>\n",
       "      <th>service_people_cnt</th>\n",
       "      <td>2461285.0</td>\n",
       "      <td>1.765</td>\n",
       "      <td>0.904</td>\n",
       "      <td>1.0</td>\n",
       "      <td>1.0</td>\n",
       "      <td>2.0</td>\n",
       "      <td>2.00</td>\n",
       "      <td>10.0</td>\n",
       "    </tr>\n",
       "    <tr>\n",
       "      <th>client_id</th>\n",
       "      <td>2461285.0</td>\n",
       "      <td>283464.796</td>\n",
       "      <td>161814.804</td>\n",
       "      <td>202601.0</td>\n",
       "      <td>213592.0</td>\n",
       "      <td>248088.0</td>\n",
       "      <td>291090.00</td>\n",
       "      <td>1183833.0</td>\n",
       "    </tr>\n",
       "    <tr>\n",
       "      <th>hotel_id</th>\n",
       "      <td>2461285.0</td>\n",
       "      <td>40782.650</td>\n",
       "      <td>70021.701</td>\n",
       "      <td>7.0</td>\n",
       "      <td>3760.0</td>\n",
       "      <td>10266.0</td>\n",
       "      <td>40479.00</td>\n",
       "      <td>419311.0</td>\n",
       "    </tr>\n",
       "    <tr>\n",
       "      <th>category_star</th>\n",
       "      <td>2461285.0</td>\n",
       "      <td>2.451</td>\n",
       "      <td>1.603</td>\n",
       "      <td>0.0</td>\n",
       "      <td>0.0</td>\n",
       "      <td>3.0</td>\n",
       "      <td>4.00</td>\n",
       "      <td>5.0</td>\n",
       "    </tr>\n",
       "    <tr>\n",
       "      <th>hotel_seasonal</th>\n",
       "      <td>2461285.0</td>\n",
       "      <td>0.009</td>\n",
       "      <td>0.096</td>\n",
       "      <td>0.0</td>\n",
       "      <td>0.0</td>\n",
       "      <td>0.0</td>\n",
       "      <td>0.00</td>\n",
       "      <td>1.0</td>\n",
       "    </tr>\n",
       "    <tr>\n",
       "      <th>room_category</th>\n",
       "      <td>2461285.0</td>\n",
       "      <td>36.547</td>\n",
       "      <td>17.618</td>\n",
       "      <td>10.0</td>\n",
       "      <td>30.0</td>\n",
       "      <td>30.0</td>\n",
       "      <td>40.00</td>\n",
       "      <td>120.0</td>\n",
       "    </tr>\n",
       "  </tbody>\n",
       "</table>\n",
       "</div>"
      ],
      "text/plain": [
       "                        count        mean         std       min       25%  \\\n",
       "service_price       2461285.0    9499.889   13514.086     -90.0    3200.0   \n",
       "service_child_cnt   2461285.0       0.090       0.468       0.0       0.0   \n",
       "service_people_cnt  2461285.0       1.765       0.904       1.0       1.0   \n",
       "client_id           2461285.0  283464.796  161814.804  202601.0  213592.0   \n",
       "hotel_id            2461285.0   40782.650   70021.701       7.0    3760.0   \n",
       "category_star       2461285.0       2.451       1.603       0.0       0.0   \n",
       "hotel_seasonal      2461285.0       0.009       0.096       0.0       0.0   \n",
       "room_category       2461285.0      36.547      17.618      10.0      30.0   \n",
       "\n",
       "                         50%        75%        max  \n",
       "service_price         5656.0   11035.94  1976845.5  \n",
       "service_child_cnt        0.0       0.00        8.0  \n",
       "service_people_cnt       2.0       2.00       10.0  \n",
       "client_id           248088.0  291090.00  1183833.0  \n",
       "hotel_id             10266.0   40479.00   419311.0  \n",
       "category_star            3.0       4.00        5.0  \n",
       "hotel_seasonal           0.0       0.00        1.0  \n",
       "room_category           30.0      40.00      120.0  "
      ]
     },
     "execution_count": 648,
     "metadata": {},
     "output_type": "execute_result"
    }
   ],
   "source": [
    "train_df[numerical_cols].describe().apply(lambda x: np.round(x, 3)).T"
   ]
  },
  {
   "cell_type": "code",
   "execution_count": 649,
   "metadata": {},
   "outputs": [],
   "source": [
    "train_df = train_df[train_df['service_price'] >= 0] # уберем брони, где цена меньше 0, это выброс\n"
   ]
  },
  {
   "cell_type": "code",
   "execution_count": 650,
   "metadata": {},
   "outputs": [
    {
     "data": {
      "text/html": [
       "<div>\n",
       "<style scoped>\n",
       "    .dataframe tbody tr th:only-of-type {\n",
       "        vertical-align: middle;\n",
       "    }\n",
       "\n",
       "    .dataframe tbody tr th {\n",
       "        vertical-align: top;\n",
       "    }\n",
       "\n",
       "    .dataframe thead th {\n",
       "        text-align: right;\n",
       "    }\n",
       "</style>\n",
       "<table border=\"1\" class=\"dataframe\">\n",
       "  <thead>\n",
       "    <tr style=\"text-align: right;\">\n",
       "      <th></th>\n",
       "      <th>count</th>\n",
       "      <th>mean</th>\n",
       "      <th>std</th>\n",
       "      <th>min</th>\n",
       "      <th>25%</th>\n",
       "      <th>50%</th>\n",
       "      <th>75%</th>\n",
       "      <th>max</th>\n",
       "    </tr>\n",
       "  </thead>\n",
       "  <tbody>\n",
       "    <tr>\n",
       "      <th>service_price</th>\n",
       "      <td>2110643.0</td>\n",
       "      <td>8949.846</td>\n",
       "      <td>11797.446</td>\n",
       "      <td>0.0</td>\n",
       "      <td>3151.0</td>\n",
       "      <td>5487.0</td>\n",
       "      <td>10561.0</td>\n",
       "      <td>1976845.5</td>\n",
       "    </tr>\n",
       "    <tr>\n",
       "      <th>service_child_cnt</th>\n",
       "      <td>2110643.0</td>\n",
       "      <td>0.074</td>\n",
       "      <td>0.423</td>\n",
       "      <td>0.0</td>\n",
       "      <td>0.0</td>\n",
       "      <td>0.0</td>\n",
       "      <td>0.0</td>\n",
       "      <td>8.0</td>\n",
       "    </tr>\n",
       "    <tr>\n",
       "      <th>service_people_cnt</th>\n",
       "      <td>2110643.0</td>\n",
       "      <td>1.733</td>\n",
       "      <td>0.884</td>\n",
       "      <td>1.0</td>\n",
       "      <td>1.0</td>\n",
       "      <td>2.0</td>\n",
       "      <td>2.0</td>\n",
       "      <td>10.0</td>\n",
       "    </tr>\n",
       "    <tr>\n",
       "      <th>client_id</th>\n",
       "      <td>2110643.0</td>\n",
       "      <td>277629.043</td>\n",
       "      <td>153244.498</td>\n",
       "      <td>202601.0</td>\n",
       "      <td>213592.0</td>\n",
       "      <td>239952.0</td>\n",
       "      <td>291090.0</td>\n",
       "      <td>1183823.0</td>\n",
       "    </tr>\n",
       "    <tr>\n",
       "      <th>hotel_id</th>\n",
       "      <td>2110643.0</td>\n",
       "      <td>39075.926</td>\n",
       "      <td>68121.317</td>\n",
       "      <td>7.0</td>\n",
       "      <td>3661.0</td>\n",
       "      <td>10022.0</td>\n",
       "      <td>36303.0</td>\n",
       "      <td>419311.0</td>\n",
       "    </tr>\n",
       "    <tr>\n",
       "      <th>category_star</th>\n",
       "      <td>2110643.0</td>\n",
       "      <td>2.468</td>\n",
       "      <td>1.592</td>\n",
       "      <td>0.0</td>\n",
       "      <td>0.0</td>\n",
       "      <td>3.0</td>\n",
       "      <td>4.0</td>\n",
       "      <td>5.0</td>\n",
       "    </tr>\n",
       "    <tr>\n",
       "      <th>hotel_seasonal</th>\n",
       "      <td>2110643.0</td>\n",
       "      <td>0.008</td>\n",
       "      <td>0.088</td>\n",
       "      <td>0.0</td>\n",
       "      <td>0.0</td>\n",
       "      <td>0.0</td>\n",
       "      <td>0.0</td>\n",
       "      <td>1.0</td>\n",
       "    </tr>\n",
       "    <tr>\n",
       "      <th>room_category</th>\n",
       "      <td>2110643.0</td>\n",
       "      <td>36.371</td>\n",
       "      <td>17.313</td>\n",
       "      <td>10.0</td>\n",
       "      <td>30.0</td>\n",
       "      <td>30.0</td>\n",
       "      <td>40.0</td>\n",
       "      <td>120.0</td>\n",
       "    </tr>\n",
       "  </tbody>\n",
       "</table>\n",
       "</div>"
      ],
      "text/plain": [
       "                        count        mean         std       min       25%  \\\n",
       "service_price       2110643.0    8949.846   11797.446       0.0    3151.0   \n",
       "service_child_cnt   2110643.0       0.074       0.423       0.0       0.0   \n",
       "service_people_cnt  2110643.0       1.733       0.884       1.0       1.0   \n",
       "client_id           2110643.0  277629.043  153244.498  202601.0  213592.0   \n",
       "hotel_id            2110643.0   39075.926   68121.317       7.0    3661.0   \n",
       "category_star       2110643.0       2.468       1.592       0.0       0.0   \n",
       "hotel_seasonal      2110643.0       0.008       0.088       0.0       0.0   \n",
       "room_category       2110643.0      36.371      17.313      10.0      30.0   \n",
       "\n",
       "                         50%       75%        max  \n",
       "service_price         5487.0   10561.0  1976845.5  \n",
       "service_child_cnt        0.0       0.0        8.0  \n",
       "service_people_cnt       2.0       2.0       10.0  \n",
       "client_id           239952.0  291090.0  1183823.0  \n",
       "hotel_id             10022.0   36303.0   419311.0  \n",
       "category_star            3.0       4.0        5.0  \n",
       "hotel_seasonal           0.0       0.0        1.0  \n",
       "room_category           30.0      40.0      120.0  "
      ]
     },
     "execution_count": 650,
     "metadata": {},
     "output_type": "execute_result"
    }
   ],
   "source": [
    "train_df.loc[train_df[target] == 0, numerical_cols].describe().apply(lambda x: np.round(x, 3)).T\n"
   ]
  },
  {
   "cell_type": "code",
   "execution_count": 651,
   "metadata": {},
   "outputs": [
    {
     "data": {
      "text/html": [
       "<div>\n",
       "<style scoped>\n",
       "    .dataframe tbody tr th:only-of-type {\n",
       "        vertical-align: middle;\n",
       "    }\n",
       "\n",
       "    .dataframe tbody tr th {\n",
       "        vertical-align: top;\n",
       "    }\n",
       "\n",
       "    .dataframe thead th {\n",
       "        text-align: right;\n",
       "    }\n",
       "</style>\n",
       "<table border=\"1\" class=\"dataframe\">\n",
       "  <thead>\n",
       "    <tr style=\"text-align: right;\">\n",
       "      <th></th>\n",
       "      <th>count</th>\n",
       "      <th>mean</th>\n",
       "      <th>std</th>\n",
       "      <th>min</th>\n",
       "      <th>25%</th>\n",
       "      <th>50%</th>\n",
       "      <th>75%</th>\n",
       "      <th>max</th>\n",
       "    </tr>\n",
       "  </thead>\n",
       "  <tbody>\n",
       "    <tr>\n",
       "      <th>service_price</th>\n",
       "      <td>350641.0</td>\n",
       "      <td>12810.837</td>\n",
       "      <td>20770.059</td>\n",
       "      <td>0.0</td>\n",
       "      <td>3584.0</td>\n",
       "      <td>7000.0</td>\n",
       "      <td>14400.0</td>\n",
       "      <td>1545600.0</td>\n",
       "    </tr>\n",
       "    <tr>\n",
       "      <th>service_child_cnt</th>\n",
       "      <td>350641.0</td>\n",
       "      <td>0.190</td>\n",
       "      <td>0.667</td>\n",
       "      <td>0.0</td>\n",
       "      <td>0.0</td>\n",
       "      <td>0.0</td>\n",
       "      <td>0.0</td>\n",
       "      <td>8.0</td>\n",
       "    </tr>\n",
       "    <tr>\n",
       "      <th>service_people_cnt</th>\n",
       "      <td>350641.0</td>\n",
       "      <td>1.954</td>\n",
       "      <td>0.995</td>\n",
       "      <td>1.0</td>\n",
       "      <td>1.0</td>\n",
       "      <td>2.0</td>\n",
       "      <td>2.0</td>\n",
       "      <td>8.0</td>\n",
       "    </tr>\n",
       "    <tr>\n",
       "      <th>client_id</th>\n",
       "      <td>350641.0</td>\n",
       "      <td>318592.464</td>\n",
       "      <td>202480.947</td>\n",
       "      <td>202601.0</td>\n",
       "      <td>229449.0</td>\n",
       "      <td>275640.0</td>\n",
       "      <td>291090.0</td>\n",
       "      <td>1183833.0</td>\n",
       "    </tr>\n",
       "    <tr>\n",
       "      <th>hotel_id</th>\n",
       "      <td>350641.0</td>\n",
       "      <td>51055.192</td>\n",
       "      <td>79749.437</td>\n",
       "      <td>7.0</td>\n",
       "      <td>4621.0</td>\n",
       "      <td>12359.0</td>\n",
       "      <td>64938.0</td>\n",
       "      <td>418856.0</td>\n",
       "    </tr>\n",
       "    <tr>\n",
       "      <th>category_star</th>\n",
       "      <td>350641.0</td>\n",
       "      <td>2.351</td>\n",
       "      <td>1.666</td>\n",
       "      <td>0.0</td>\n",
       "      <td>0.0</td>\n",
       "      <td>3.0</td>\n",
       "      <td>4.0</td>\n",
       "      <td>5.0</td>\n",
       "    </tr>\n",
       "    <tr>\n",
       "      <th>hotel_seasonal</th>\n",
       "      <td>350641.0</td>\n",
       "      <td>0.019</td>\n",
       "      <td>0.135</td>\n",
       "      <td>0.0</td>\n",
       "      <td>0.0</td>\n",
       "      <td>0.0</td>\n",
       "      <td>0.0</td>\n",
       "      <td>1.0</td>\n",
       "    </tr>\n",
       "    <tr>\n",
       "      <th>room_category</th>\n",
       "      <td>350641.0</td>\n",
       "      <td>37.606</td>\n",
       "      <td>19.318</td>\n",
       "      <td>10.0</td>\n",
       "      <td>30.0</td>\n",
       "      <td>30.0</td>\n",
       "      <td>40.0</td>\n",
       "      <td>120.0</td>\n",
       "    </tr>\n",
       "  </tbody>\n",
       "</table>\n",
       "</div>"
      ],
      "text/plain": [
       "                       count        mean         std       min       25%  \\\n",
       "service_price       350641.0   12810.837   20770.059       0.0    3584.0   \n",
       "service_child_cnt   350641.0       0.190       0.667       0.0       0.0   \n",
       "service_people_cnt  350641.0       1.954       0.995       1.0       1.0   \n",
       "client_id           350641.0  318592.464  202480.947  202601.0  229449.0   \n",
       "hotel_id            350641.0   51055.192   79749.437       7.0    4621.0   \n",
       "category_star       350641.0       2.351       1.666       0.0       0.0   \n",
       "hotel_seasonal      350641.0       0.019       0.135       0.0       0.0   \n",
       "room_category       350641.0      37.606      19.318      10.0      30.0   \n",
       "\n",
       "                         50%       75%        max  \n",
       "service_price         7000.0   14400.0  1545600.0  \n",
       "service_child_cnt        0.0       0.0        8.0  \n",
       "service_people_cnt       2.0       2.0        8.0  \n",
       "client_id           275640.0  291090.0  1183833.0  \n",
       "hotel_id             12359.0   64938.0   418856.0  \n",
       "category_star            3.0       4.0        5.0  \n",
       "hotel_seasonal           0.0       0.0        1.0  \n",
       "room_category           30.0      40.0      120.0  "
      ]
     },
     "execution_count": 651,
     "metadata": {},
     "output_type": "execute_result"
    }
   ],
   "source": [
    "train_df.loc[train_df[target] == 1, numerical_cols].describe().apply(lambda x: np.round(x, 3)).T"
   ]
  },
  {
   "cell_type": "code",
   "execution_count": 652,
   "metadata": {},
   "outputs": [
    {
     "data": {
      "image/png": "[encoded data removed]",
      "text/plain": [
       "<Figure size 1100x900 with 2 Axes>"
      ]
     },
     "metadata": {},
     "output_type": "display_data"
    }
   ],
   "source": [
    "corr_matrix = train_df.corr(numeric_only=True)\n",
    "f, ax = plt.subplots(figsize=(11, 9))\n",
    "sns.heatmap(corr_matrix,annot=True, fmt=\".2f\")\n",
    "\n",
    "plt.show()"
   ]
  },
  {
   "cell_type": "markdown",
   "metadata": {},
   "source": [
    "### Categorical"
   ]
  },
  {
   "cell_type": "code",
   "execution_count": 653,
   "metadata": {},
   "outputs": [
    {
     "data": {
      "text/plain": [
       "client_segment\n",
       "b2b2c                58.466922\n",
       "b2bBusinessTravel    30.323893\n",
       "b2c                   7.551884\n",
       "b2bTravelAgencies     2.786040\n",
       "b2bTourOperators      0.538157\n",
       "b2g                   0.310859\n",
       "corporateClient       0.022245\n",
       "Name: proportion, dtype: float64"
      ]
     },
     "metadata": {},
     "output_type": "display_data"
    },
    {
     "data": {
      "text/plain": [
       "client_segment\n",
       "b2bBusinessTravel    53.998094\n",
       "b2b2c                37.464555\n",
       "b2bTravelAgencies     4.848949\n",
       "b2c                   2.481329\n",
       "b2bTourOperators      0.606261\n",
       "b2g                   0.551917\n",
       "corporateClient       0.048895\n",
       "Name: proportion, dtype: float64"
      ]
     },
     "metadata": {},
     "output_type": "display_data"
    },
    {
     "data": {
      "text/plain": [
       "country_name\n",
       "Россия          95.738947\n",
       "Беларусь         2.721587\n",
       "Казахстан        0.447181\n",
       "Узбекистан       0.364761\n",
       "Абхазия          0.339664\n",
       "Кыргызстан       0.152293\n",
       "Армения          0.136037\n",
       "Таджикистан      0.035649\n",
       "Украина          0.023386\n",
       "Грузия           0.013974\n",
       "Южная Осетия     0.012834\n",
       "Азербайджан      0.012263\n",
       "Молдавия         0.000570\n",
       "Туркменистан     0.000570\n",
       "Египет           0.000285\n",
       "Name: proportion, dtype: float64"
      ]
     },
     "metadata": {},
     "output_type": "display_data"
    },
    {
     "data": {
      "text/plain": [
       "country_name\n",
       "Россия          97.091408\n",
       "Беларусь         1.837450\n",
       "Казахстан        0.422431\n",
       "Узбекистан       0.254093\n",
       "Абхазия          0.134793\n",
       "Кыргызстан       0.123754\n",
       "Армения          0.086656\n",
       "Таджикистан      0.019947\n",
       "Украина          0.009855\n",
       "Грузия           0.007581\n",
       "Южная Осетия     0.006491\n",
       "Азербайджан      0.004643\n",
       "Египет           0.000569\n",
       "Молдавия         0.000190\n",
       "Туркменистан     0.000095\n",
       "Эстония          0.000047\n",
       "Name: proportion, dtype: float64"
      ]
     },
     "metadata": {},
     "output_type": "display_data"
    },
    {
     "data": {
      "text/plain": [
       "city_name\n",
       "Москва              11.825485\n",
       "Санкт-Петербург      8.477046\n",
       "Казань               3.476775\n",
       "Минск                2.142362\n",
       "Сочи                 1.929894\n",
       "                      ...    \n",
       "Пигаревский          0.000285\n",
       "Октябрьское пос.     0.000285\n",
       "Каргополье           0.000285\n",
       "Емва                 0.000285\n",
       "Веселовка            0.000285\n",
       "Name: proportion, Length: 2281, dtype: float64"
      ]
     },
     "metadata": {},
     "output_type": "display_data"
    },
    {
     "data": {
      "text/plain": [
       "city_name\n",
       "Москва              11.312761\n",
       "Санкт-Петербург      7.188662\n",
       "Казань               2.358049\n",
       "Екатеринбург         1.842519\n",
       "Нижний Новгород      1.661579\n",
       "                      ...    \n",
       "Трудовой поселок     0.000047\n",
       "Льялово              0.000047\n",
       "Ломово               0.000047\n",
       "Червишево с.         0.000047\n",
       "Глафировка           0.000047\n",
       "Name: proportion, Length: 2691, dtype: float64"
      ]
     },
     "metadata": {},
     "output_type": "display_data"
    },
    {
     "data": {
      "text/plain": [
       "hotel_type\n",
       "hotel                       70.531113\n",
       "mini-hotel                  13.680659\n",
       "hostel                       3.533243\n",
       "guest-house                  3.394070\n",
       "city-serviced-apartments     2.930062\n",
       "aparthotel                   2.071064\n",
       "furnished-rooms              1.258552\n",
       "turbaza                      0.622004\n",
       "resort-hotel                 0.549565\n",
       "country-hotel                0.435488\n",
       "health-resort                0.297455\n",
       "pension                      0.193360\n",
       "living-quarters              0.166552\n",
       "capsule-hotel                0.127196\n",
       "motel                        0.123773\n",
       "cottage                      0.043064\n",
       "glamping                     0.029660\n",
       "villa                        0.010837\n",
       "camping                      0.002282\n",
       "Name: proportion, dtype: float64"
      ]
     },
     "metadata": {},
     "output_type": "display_data"
    },
    {
     "data": {
      "text/plain": [
       "hotel_type\n",
       "hotel                       74.802608\n",
       "mini-hotel                  14.091677\n",
       "city-serviced-apartments     2.537521\n",
       "guest-house                  2.400311\n",
       "hostel                       2.174551\n",
       "aparthotel                   1.696876\n",
       "furnished-rooms              0.884186\n",
       "turbaza                      0.345155\n",
       "country-hotel                0.244238\n",
       "resort-hotel                 0.216237\n",
       "health-resort                0.142089\n",
       "motel                        0.117358\n",
       "living-quarters              0.115841\n",
       "pension                      0.098927\n",
       "capsule-hotel                0.094426\n",
       "cottage                      0.019331\n",
       "glamping                     0.015209\n",
       "villa                        0.002653\n",
       "camping                      0.000805\n",
       "Name: proportion, dtype: float64"
      ]
     },
     "metadata": {},
     "output_type": "display_data"
    }
   ],
   "source": [
    "for col in categorical_cols:\n",
    "    display(train_df.loc[train_df[target] == 1, col].value_counts(normalize=True) * 100)\n",
    "    display(train_df.loc[train_df[target] == 0, col].value_counts(normalize=True) * 100)\n",
    "    "
   ]
  },
  {
   "cell_type": "markdown",
   "metadata": {},
   "source": [
    "## Feature Engineering"
   ]
  },
  {
   "cell_type": "markdown",
   "metadata": {},
   "source": [
    "Новые данные:\n",
    "1. lead_time - Количество дней между бронированием и прибытием. (chekin - date)\n",
    "2. checkin_date_year - год прибытия\n",
    "3. checkin_date_month - месяц прибытия.\n",
    "4. checkin_date_week - номер недели  года прибытия\n",
    "5. checkin_date_day_of_month - день месяца прибытия\n",
    "6. stays_in_week - Количество дней в неделю, которые гость прожил или забронировал\n",
    "7. previous_cancel - Количество предыдущих бронирований, отмененных клиентом!!!\n",
    "8. count_of_bookings - количество всех предыдущих бронирований\n",
    "9. percent - доля отмененных броней"
   ]
  },
  {
   "cell_type": "code",
   "execution_count": 654,
   "metadata": {},
   "outputs": [],
   "source": [
    "def process_df(df, previous_df=train_df, flag=True):\n",
    "    df['lead_time'] = (df['service_checkin'] - df['service_date']).apply(lambda x: x.days)\n",
    "\n",
    "    df['checkin_date_month'] = df['service_checkin'].apply(lambda x: x.month)\n",
    "    df['checkin_date_year'] = df['service_checkin'].apply(lambda x: x.year)\n",
    "    df['checkin_date_day_of_month'] = df['service_checkin'].apply(lambda x: x.day)\n",
    "    df['checkin_date_week'] = df['service_checkin'].apply(lambda x: x.week)\n",
    "\n",
    "    df['stays_in_week_day'] = (df['service_checkout'] - df['service_checkin']).apply(lambda x: x.days)\n",
    "    if flag:      \n",
    "        df['count_of_bookings'] = df.groupby(['client_id'])['service_date'].rank(method='first')\n",
    "        previous_cancel_series = df.groupby(['client_id'])[target].expanding().sum().reset_index()[['service_id', 'service_status']].sort_values(by='service_id')\n",
    "        df['previous_cancel'] = previous_cancel_series['service_status'].tolist()\n",
    "    else:\n",
    "        client_id_test = pd.DataFrame(df['client_id'].unique(), columns=['client_id'])\n",
    "        client_id_test_previous = pd.merge(client_id_test, previous_df[['client_id', 'previous_cancel']], \\\n",
    "                    how='left', left_on='client_id', right_on='client_id').drop_duplicates().fillna(0)\n",
    "\n",
    "        client_id_test_previous = client_id_test_previous.groupby('client_id').max().reset_index()\n",
    "        df = pd.merge(df, client_id_test_previous, how='left', left_on='client_id', right_on='client_id')\n",
    "        \n",
    "        client_id_test = pd.DataFrame(df['client_id'].unique(), columns=['client_id'])\n",
    "        client_id_test_previous = pd.merge(client_id_test, previous_df[['client_id', 'count_of_bookings']], \\\n",
    "                    how='left', left_on='client_id', right_on='client_id').drop_duplicates().fillna(0)\n",
    "\n",
    "        client_id_test_previous = client_id_test_previous.groupby('client_id').max().reset_index()\n",
    "        df = pd.merge(df, client_id_test_previous, how='left', left_on='client_id', right_on='client_id')\n",
    "        \n",
    "    \n",
    "    df['percent'] = df['previous_cancel'] / df['count_of_bookings']\n",
    "    \n",
    "    df = df.drop(date_columns, axis=1)\n",
    "\n",
    "    return df"
   ]
  },
  {
   "cell_type": "markdown",
   "metadata": {},
   "source": [
    "## Modeling."
   ]
  },
  {
   "cell_type": "markdown",
   "metadata": {},
   "source": [
    "### CatBoost"
   ]
  },
  {
   "cell_type": "code",
   "execution_count": 655,
   "metadata": {},
   "outputs": [],
   "source": [
    "from sklearn.datasets import load_breast_cancer\n",
    "from sklearn.model_selection import train_test_split,  cross_val_score, StratifiedKFold\n",
    "from sklearn.metrics import accuracy_score, classification_report, confusion_matrix\n",
    "from sklearn.metrics import f1_score\n",
    "\n",
    "from catboost import CatBoostClassifier, Pool\n"
   ]
  },
  {
   "cell_type": "code",
   "execution_count": 656,
   "metadata": {},
   "outputs": [],
   "source": [
    "def report_model(y_test, y_pred_class):\n",
    "    conf_mat = confusion_matrix(y_test, y_pred_class)\n",
    "\n",
    "    report = classification_report(y_test, y_pred_class)\n",
    "    print(\"Отчет о классификации:\")\n",
    "    print(report)\n",
    "\n",
    "    plt.figure(figsize=(10, 8))\n",
    "    sns.heatmap(conf_mat, annot=True, cmap=\"Blues\")\n",
    "    plt.xlabel(\"Предсказанные значения\")\n",
    "    plt.ylabel(\"Истинные значения\")\n",
    "    plt.title(\"Матрица ошибок\")\n",
    "    plt.show()"
   ]
  },
  {
   "cell_type": "code",
   "execution_count": 657,
   "metadata": {},
   "outputs": [],
   "source": [
    "train_df_pred = train_df.copy()\n",
    "test_df_pred = test_df.copy()\n",
    "    "
   ]
  },
  {
   "cell_type": "code",
   "execution_count": 658,
   "metadata": {},
   "outputs": [],
   "source": [
    "all_train = train_df_pred[:int(train_df_pred.shape[0] * 0.8)] # 0.8 - TOP\n",
    "all_test = train_df_pred[int(train_df_pred.shape[0] * 0.8):]\n"
   ]
  },
  {
   "cell_type": "code",
   "execution_count": null,
   "metadata": {},
   "outputs": [],
   "source": [
    "all_train = process_df(all_train, all_train)\n",
    "all_test = process_df(all_test, all_train, False)\n"
   ]
  },
  {
   "cell_type": "code",
   "execution_count": 660,
   "metadata": {},
   "outputs": [],
   "source": [
    "all_train = drop_columns(all_train, ['client_id', 'country_name', 'hotel_id', 'count_of_bookings']) # Удалим данные столбцы, потому что они нам не нужны\n",
    "all_test = drop_columns(all_test, ['client_id', 'country_name', 'hotel_id', 'count_of_bookings'])\n"
   ]
  },
  {
   "cell_type": "code",
   "execution_count": 661,
   "metadata": {},
   "outputs": [],
   "source": [
    "X_train = all_train.drop(target, axis=1)\n",
    "X_test = all_test.drop(target, axis=1)\n",
    "y_train = all_train[target]\n",
    "y_test = all_test[target]"
   ]
  },
  {
   "cell_type": "code",
   "execution_count": 662,
   "metadata": {},
   "outputs": [
    {
     "name": "stdout",
     "output_type": "stream",
     "text": [
      "<class 'pandas.core.frame.DataFrame'>\n",
      "Index: 1969027 entries, 12528139 to 28949770\n",
      "Data columns (total 17 columns):\n",
      " #   Column                     Dtype  \n",
      "---  ------                     -----  \n",
      " 0   service_price              float64\n",
      " 1   service_child_cnt          float64\n",
      " 2   service_people_cnt         float64\n",
      " 3   client_segment             object \n",
      " 4   city_name                  object \n",
      " 5   category_star              float64\n",
      " 6   hotel_type                 object \n",
      " 7   hotel_seasonal             int64  \n",
      " 8   room_category              int64  \n",
      " 9   lead_time                  int64  \n",
      " 10  checkin_date_month         int64  \n",
      " 11  checkin_date_year          int64  \n",
      " 12  checkin_date_day_of_month  int64  \n",
      " 13  checkin_date_week          int64  \n",
      " 14  stays_in_week_day          int64  \n",
      " 15  previous_cancel            float64\n",
      " 16  percent                    float64\n",
      "dtypes: float64(6), int64(8), object(3)\n",
      "memory usage: 270.4+ MB\n"
     ]
    }
   ],
   "source": [
    "X_train.info()"
   ]
  },
  {
   "cell_type": "code",
   "execution_count": 663,
   "metadata": {},
   "outputs": [],
   "source": [
    "numerical_cols = X_test.select_dtypes(include=['int', 'float']).columns\n",
    "categorical_cols = X_test.select_dtypes(include='O').columns\n",
    "target = 'service_status'"
   ]
  },
  {
   "cell_type": "code",
   "execution_count": 664,
   "metadata": {},
   "outputs": [
    {
     "name": "stdout",
     "output_type": "stream",
     "text": [
      "0:\tlearn: 0.5202896\ttotal: 128ms\tremaining: 2m 8s\n",
      "200:\tlearn: 0.5388907\ttotal: 26.2s\tremaining: 1m 44s\n",
      "400:\tlearn: 0.5469437\ttotal: 50.7s\tremaining: 1m 15s\n",
      "600:\tlearn: 0.5506934\ttotal: 1m 14s\tremaining: 49.7s\n",
      "800:\tlearn: 0.5527359\ttotal: 1m 38s\tremaining: 24.4s\n",
      "999:\tlearn: 0.5538274\ttotal: 2m 1s\tremaining: 0us\n",
      "F1-macro score: 0.6648337587381995\n"
     ]
    }
   ],
   "source": [
    "model_cat = CatBoostClassifier(\n",
    "    verbose=200,\n",
    "    eval_metric='F1',\n",
    "    auto_class_weights='SqrtBalanced',\n",
    "    task_type='GPU',\n",
    "    has_time=True,\n",
    "    learning_rate=0.022212\n",
    ")\n",
    "#0.022212\n",
    "train_pool = Pool(X_train, y_train, cat_features=np.array(categorical_cols))\n",
    "model_cat.fit(train_pool)\n",
    "\n",
    "test_pool = Pool(X_test, y_test, cat_features=np.array(categorical_cols))\n",
    "y_preds = model_cat.predict(test_pool)\n",
    "f1_macro = f1_score(y_test, y_preds, average='macro') \n",
    "print(\"F1-macro score:\", f1_macro)"
   ]
  },
  {
   "cell_type": "code",
   "execution_count": 665,
   "metadata": {},
   "outputs": [
    {
     "name": "stdout",
     "output_type": "stream",
     "text": [
      "F1-macro score: 0.6911184043619361\n"
     ]
    }
   ],
   "source": [
    "y_preds_train = model_cat.predict(train_pool)\n",
    "f1_macro = f1_score(y_train, y_preds_train, average='macro')\n",
    "print(\"F1-macro score:\", f1_macro)"
   ]
  },
  {
   "cell_type": "code",
   "execution_count": 666,
   "metadata": {},
   "outputs": [
    {
     "name": "stdout",
     "output_type": "stream",
     "text": [
      "F1-macro score: 0.6648337587381995\n"
     ]
    }
   ],
   "source": [
    "y_preds = model_cat.predict(test_pool)\n",
    "f1_macro = f1_score(y_test, y_preds, average='macro')\n",
    "print(\"F1-macro score:\", f1_macro)"
   ]
  },
  {
   "cell_type": "code",
   "execution_count": 667,
   "metadata": {},
   "outputs": [
    {
     "name": "stdout",
     "output_type": "stream",
     "text": [
      "Отчет о классификации:\n",
      "              precision    recall  f1-score   support\n",
      "\n",
      "           0       0.89      0.84      0.86    403635\n",
      "           1       0.42      0.53      0.47     88622\n",
      "\n",
      "    accuracy                           0.78    492257\n",
      "   macro avg       0.65      0.68      0.66    492257\n",
      "weighted avg       0.81      0.78      0.79    492257\n",
      "\n"
     ]
    },
    {
     "data": {
      "image/png": "[encoded data removed]",
      "text/plain": [
       "<Figure size 1000x800 with 2 Axes>"
      ]
     },
     "metadata": {},
     "output_type": "display_data"
    }
   ],
   "source": [
    "report_model(y_test, y_preds)"
   ]
  },
  {
   "cell_type": "code",
   "execution_count": 668,
   "metadata": {},
   "outputs": [
    {
     "data": {
      "text/html": [
       "<div>\n",
       "<style scoped>\n",
       "    .dataframe tbody tr th:only-of-type {\n",
       "        vertical-align: middle;\n",
       "    }\n",
       "\n",
       "    .dataframe tbody tr th {\n",
       "        vertical-align: top;\n",
       "    }\n",
       "\n",
       "    .dataframe thead th {\n",
       "        text-align: right;\n",
       "    }\n",
       "</style>\n",
       "<table border=\"1\" class=\"dataframe\">\n",
       "  <thead>\n",
       "    <tr style=\"text-align: right;\">\n",
       "      <th></th>\n",
       "      <th>importance</th>\n",
       "    </tr>\n",
       "  </thead>\n",
       "  <tbody>\n",
       "    <tr>\n",
       "      <th>percent</th>\n",
       "      <td>57.904735</td>\n",
       "    </tr>\n",
       "    <tr>\n",
       "      <th>lead_time</th>\n",
       "      <td>21.511211</td>\n",
       "    </tr>\n",
       "    <tr>\n",
       "      <th>client_segment</th>\n",
       "      <td>8.797004</td>\n",
       "    </tr>\n",
       "    <tr>\n",
       "      <th>previous_cancel</th>\n",
       "      <td>2.668631</td>\n",
       "    </tr>\n",
       "    <tr>\n",
       "      <th>service_price</th>\n",
       "      <td>1.613765</td>\n",
       "    </tr>\n",
       "    <tr>\n",
       "      <th>city_name</th>\n",
       "      <td>1.267319</td>\n",
       "    </tr>\n",
       "    <tr>\n",
       "      <th>service_people_cnt</th>\n",
       "      <td>1.233983</td>\n",
       "    </tr>\n",
       "    <tr>\n",
       "      <th>checkin_date_week</th>\n",
       "      <td>1.138253</td>\n",
       "    </tr>\n",
       "    <tr>\n",
       "      <th>stays_in_week_day</th>\n",
       "      <td>0.894096</td>\n",
       "    </tr>\n",
       "    <tr>\n",
       "      <th>hotel_type</th>\n",
       "      <td>0.767208</td>\n",
       "    </tr>\n",
       "    <tr>\n",
       "      <th>room_category</th>\n",
       "      <td>0.654273</td>\n",
       "    </tr>\n",
       "    <tr>\n",
       "      <th>category_star</th>\n",
       "      <td>0.466077</td>\n",
       "    </tr>\n",
       "    <tr>\n",
       "      <th>checkin_date_year</th>\n",
       "      <td>0.309323</td>\n",
       "    </tr>\n",
       "    <tr>\n",
       "      <th>checkin_date_day_of_month</th>\n",
       "      <td>0.300575</td>\n",
       "    </tr>\n",
       "    <tr>\n",
       "      <th>service_child_cnt</th>\n",
       "      <td>0.251177</td>\n",
       "    </tr>\n",
       "    <tr>\n",
       "      <th>checkin_date_month</th>\n",
       "      <td>0.215795</td>\n",
       "    </tr>\n",
       "    <tr>\n",
       "      <th>hotel_seasonal</th>\n",
       "      <td>0.006575</td>\n",
       "    </tr>\n",
       "  </tbody>\n",
       "</table>\n",
       "</div>"
      ],
      "text/plain": [
       "                           importance\n",
       "percent                     57.904735\n",
       "lead_time                   21.511211\n",
       "client_segment               8.797004\n",
       "previous_cancel              2.668631\n",
       "service_price                1.613765\n",
       "city_name                    1.267319\n",
       "service_people_cnt           1.233983\n",
       "checkin_date_week            1.138253\n",
       "stays_in_week_day            0.894096\n",
       "hotel_type                   0.767208\n",
       "room_category                0.654273\n",
       "category_star                0.466077\n",
       "checkin_date_year            0.309323\n",
       "checkin_date_day_of_month    0.300575\n",
       "service_child_cnt            0.251177\n",
       "checkin_date_month           0.215795\n",
       "hotel_seasonal               0.006575"
      ]
     },
     "execution_count": 668,
     "metadata": {},
     "output_type": "execute_result"
    }
   ],
   "source": [
    "features = pd.DataFrame(model_cat.get_feature_importance(), index=X_test.columns, columns=['importance']).sort_values(by='importance', ascending=False)\n",
    "features"
   ]
  },
  {
   "cell_type": "code",
   "execution_count": 669,
   "metadata": {},
   "outputs": [],
   "source": [
    "train_df_pred = process_df(train_df, train_df)\n",
    "test_df = process_df(test_df, train_df_pred, False)\n",
    "train_df_pred = drop_columns(train_df_pred, ['client_id', 'country_name', 'hotel_id', 'count_of_bookings'])\n",
    "test_df = drop_columns(test_df, ['client_id', 'country_name', 'hotel_id', 'count_of_bookings'])\n",
    "\n",
    "test_df['client_segment'] = test_df['client_segment'].fillna(test_df['client_segment'].mode()[0])\n",
    "test_df['city_name'] = test_df['city_name'].fillna(test_df['city_name'].mode()[0])\n",
    "test_df['category_star'] = test_df['category_star'].fillna(0)\n",
    "test_df['percent'] = test_df['percent'].fillna(0)\n"
   ]
  },
  {
   "cell_type": "code",
   "execution_count": 670,
   "metadata": {},
   "outputs": [],
   "source": [
    "test_pool_public = Pool(test_df, cat_features=np.array(categorical_cols))\n",
    "y_preds_public = model_cat.predict(test_pool_public)"
   ]
  },
  {
   "cell_type": "code",
   "execution_count": 671,
   "metadata": {},
   "outputs": [],
   "source": [
    "submission = pd.read_csv('data/sample_submission.csv')\n",
    "submission['1'] = y_preds_public.astype(\"int8\")\n",
    "submission.to_csv(\"data/submission_С_good_people_80_all_lr_public.csv\", index=False, header=None) "
   ]
  },
  {
   "cell_type": "code",
   "execution_count": 672,
   "metadata": {},
   "outputs": [],
   "source": [
    "private_df = pd.read_csv('data/private_test.csv', index_col='service_id')\n",
    "private_df = prep_df(private_df)\n",
    "private_df = process_df(private_df, train_df, False)\n",
    "\n",
    "private_df = drop_columns(private_df, ['client_id', 'country_name', 'hotel_id', 'count_of_bookings'])\n"
   ]
  },
  {
   "cell_type": "code",
   "execution_count": 673,
   "metadata": {},
   "outputs": [],
   "source": [
    "private_df['client_segment'] = private_df['client_segment'].fillna(private_df['client_segment'].mode()[0])\n",
    "private_df['city_name'] = private_df['city_name'].fillna(private_df['city_name'].mode()[0])\n",
    "private_df['category_star'] = private_df['category_star'].fillna(0)\n",
    "\n",
    "private_df['percent'] = private_df['percent'].fillna(0)\n"
   ]
  },
  {
   "cell_type": "code",
   "execution_count": 674,
   "metadata": {},
   "outputs": [],
   "source": [
    "test_pool_private = Pool(private_df, cat_features=np.array(categorical_cols))\n",
    "y_preds_private = model_cat.predict(test_pool_private)"
   ]
  },
  {
   "cell_type": "code",
   "execution_count": 675,
   "metadata": {},
   "outputs": [],
   "source": [
    "submission = pd.read_csv('data/sample_submission.csv')\n",
    "submission['1'] = y_preds_private.astype(\"int8\")\n",
    "submission.to_csv(\"data/submission_С_private.csv\", index=False, header=None) "
   ]
  }
 ],
 "metadata": {
  "kernelspec": {
   "display_name": "machine",
   "language": "python",
   "name": "python3"
  },
  "language_info": {
   "codemirror_mode": {
    "name": "ipython",
    "version": 3
   },
   "file_extension": ".py",
   "mimetype": "text/x-python",
   "name": "python",
   "nbconvert_exporter": "python",
   "pygments_lexer": "ipython3",
   "version": "3.12.2"
  }
 },
 "nbformat": 4,
 "nbformat_minor": 2
}
